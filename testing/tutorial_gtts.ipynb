{
 "cells": [
  {
   "cell_type": "markdown",
   "id": "92ee275a",
   "metadata": {},
   "source": [
    "# gTTS (Google Text-to-Speech)"
   ]
  },
  {
   "cell_type": "markdown",
   "id": "dd914d5d",
   "metadata": {},
   "source": [
    "Es una herramienta de Python que permite convertir texto en voz utilizando la API de Google Translate. Es especialmente útil para crear archivos de audio a partir de texto de manera sencilla y rápida."
   ]
  },
  {
   "cell_type": "markdown",
   "id": "26bf4980",
   "metadata": {},
   "source": [
    "pip install gTTS"
   ]
  },
  {
   "cell_type": "markdown",
   "id": "debedc0a",
   "metadata": {},
   "source": [
    "🧪 Ejemplo básico de uso"
   ]
  },
  {
   "cell_type": "code",
   "execution_count": 1,
   "id": "d15b7739",
   "metadata": {},
   "outputs": [],
   "source": [
    "from gtts import gTTS\n",
    "\n",
    "texto = \"Hola Javier, este es un ejemplo de texto a voz.\"\n",
    "tts = gTTS(text=texto, lang='es')\n",
    "tts.save(\"saludo.mp3\")\n"
   ]
  }
 ],
 "metadata": {
  "kernelspec": {
   "display_name": "env2",
   "language": "python",
   "name": "python3"
  },
  "language_info": {
   "codemirror_mode": {
    "name": "ipython",
    "version": 3
   },
   "file_extension": ".py",
   "mimetype": "text/x-python",
   "name": "python",
   "nbconvert_exporter": "python",
   "pygments_lexer": "ipython3",
   "version": "3.11.13"
  }
 },
 "nbformat": 4,
 "nbformat_minor": 5
}
