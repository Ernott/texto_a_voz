{
 "cells": [
  {
   "cell_type": "markdown",
   "id": "e8e3b548",
   "metadata": {},
   "source": [
    "# Tutorial básico: Newspaper3k en Python"
   ]
  },
  {
   "cell_type": "markdown",
   "id": "2f365a92",
   "metadata": {},
   "source": [
    "1. Instalación (Ejecutar en terminal)"
   ]
  },
  {
   "cell_type": "code",
   "execution_count": null,
   "id": "f5ecaaaa",
   "metadata": {
    "vscode": {
     "languageId": "shellscript"
    }
   },
   "outputs": [],
   "source": [
    "pip install newspaper3k"
   ]
  },
  {
   "cell_type": "markdown",
   "id": "2fc91219",
   "metadata": {},
   "source": [
    "2. 🧠 Importar y configurar"
   ]
  },
  {
   "cell_type": "code",
   "execution_count": 2,
   "id": "89188403",
   "metadata": {},
   "outputs": [],
   "source": [
    "from newspaper import Article\n",
    "\n",
    "# URL del artículo que quieres analizar\n",
    "url = 'https://www.3djuegos.com/juegos/no-mans-sky/noticias/este-jugador-no-mans-sky-se-ha-encontrado-frente-a-frente-mismisima-estrella-muerte-imponente-que-le-ha-roto-partida'\n",
    "\n",
    "# Crear objeto del artículo\n",
    "articulo = Article(url, language='es')  # Usa 'en' para inglés\n"
   ]
  },
  {
   "cell_type": "markdown",
   "id": "d142d478",
   "metadata": {},
   "source": [
    "3. 📥 Descargar y analiza"
   ]
  },
  {
   "cell_type": "code",
   "execution_count": 3,
   "id": "0f8007bc",
   "metadata": {},
   "outputs": [],
   "source": [
    "articulo.download()\n",
    "articulo.parse()"
   ]
  },
  {
   "cell_type": "markdown",
   "id": "272a2d8d",
   "metadata": {},
   "source": [
    "4. 📝 Acceder al contenido"
   ]
  },
  {
   "cell_type": "code",
   "execution_count": 4,
   "id": "92bb425e",
   "metadata": {},
   "outputs": [
    {
     "name": "stdout",
     "output_type": "stream",
     "text": [
      "Título: Este jugador de No Man's Sky se ha encontrado frente a frente con la mismísima Estrella de la Muerte y es tan imponente que le ha roto la partida\n",
      "Autores: ['Miguel Solo']\n",
      "Fecha: 2025-10-15 13:30:37+00:00\n",
      "Texto: Años de mejoras y expansiones gratuitas han hecho que No Man's Sky pase de ser el patito feo del género a uno de los videojuegos online más queridos, pero viendo a la comunidad, uno diría que lo único que Hello Games necesitaba añadir era la posibilidad de crear tus propias naves. En apenas unas semanas los jugadores han dado rienda suelta a su creatividad con marcianadas de todo tipo.\n",
      "\n",
      "Esto ha incluido por supuesto recreaciones de naves míticas de la cultura popular. O en este caso, estaciones espaciales. En Reddit (vía Kotaku), un jugador mostraba su hallazgo que tuvo lugar en una sesión multijugador, donde se encontró con la imponente visión de la legendaria arma del Imperio.\n",
      "\n",
      "Click para ir al post original de Reddit\n",
      "\n",
      "No ha podido apreciarla en profundidad, eso sí. El tamaño y la complejidad de esta creación hecha por otro jugador debe ser tal que le ha fastidiado el rendimiento de la partida. \"Es una corvette del tamaño de una estación espacial, le ha llevado 10 minutos cargar y ha crasheado mi sesión multijugador cuando me he acercado demasiado\", afirmaba en su post.\n",
      "\n",
      "Por supuesto, los comentarios se han llenado de chistes de Star Wars. \"Muchos framerates de los bothans han muerto para traer esta información\", decía alguien. \"Ahora tengo que revisar si mi planeta natal sigue en pie\", bromeaba otro. Destruir un planeta seguramente no es algo que pueda hacer, pero desde luego parece adecuado temáticamente que encontrarse con ella sea una molestia para los jugadores.\n",
      "\n",
      "La comunidad de No Man's Sky ha intentado recrear la Estrella de la Muerte en el pasado, incluso cuando no tenían las herramientas específicas para poder hacerlo. Hace dos años, alguien consiguió resultados impresionantes con una base flotante que además servía como hogar del jugador.\n",
      "\n",
      "Pese a haberle dado la vuelta a la mala narrativa que había alrededor del título, Hello Games parece incansable con sus actualizaciones con No Man's Sky, en parte porque parece que la tecnología se está utilizando también en el próximo juego de la compañía, un Light No Fire que muchos vuelven a tener entre sus juegos más deseados.\n",
      "\n",
      "En 3DJuegos | No Man's Sky está cada día más cerca de convertirse en el Minecraft espacial: un jugador acaba de recrear The Office en uno de sus planetas\n",
      "\n",
      "En 3DJuegos | No Man's Sky le ha dado a su comunidad algo que otras de videojuegos de ciencia ficción llevan suplicando mucho tiempo\n"
     ]
    }
   ],
   "source": [
    "print(\"Título:\", articulo.title)\n",
    "print(\"Autores:\", articulo.authors)\n",
    "print(\"Fecha:\", articulo.publish_date)\n",
    "print(\"Texto:\", articulo.text)"
   ]
  }
 ],
 "metadata": {
  "kernelspec": {
   "display_name": "env2",
   "language": "python",
   "name": "python3"
  },
  "language_info": {
   "codemirror_mode": {
    "name": "ipython",
    "version": 3
   },
   "file_extension": ".py",
   "mimetype": "text/x-python",
   "name": "python",
   "nbconvert_exporter": "python",
   "pygments_lexer": "ipython3",
   "version": "3.11.13"
  }
 },
 "nbformat": 4,
 "nbformat_minor": 5
}
